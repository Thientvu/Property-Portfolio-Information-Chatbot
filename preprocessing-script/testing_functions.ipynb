{
 "cells": [
  {
   "cell_type": "code",
   "execution_count": 1,
   "id": "1cb57696-2b33-49c3-9452-287f96f8d539",
   "metadata": {},
   "outputs": [],
   "source": [
    "import pandas as pd\n",
    "import numpy as np\n",
    "from pathlib import Path\n",
    "from pca_processing_items import process_pca_items"
   ]
  },
  {
   "cell_type": "code",
   "execution_count": 5,
   "id": "c88deaa5-dd78-4ea3-b5d3-fdcef60829ac",
   "metadata": {
    "scrolled": true
   },
   "outputs": [
    {
     "name": "stdout",
     "output_type": "stream",
     "text": [
      "  project_id section_reference  \\\n",
      "0     246024               1.1   \n",
      "1     246024              1.10   \n",
      "2     246024              1.11   \n",
      "3     246024               1.3   \n",
      "4     246024               1.5   \n",
      "\n",
      "                                            docu_txt  cost_related  \n",
      "0  Property use is Industrial, Land Acreage (acre...         False  \n",
      "1  Were any suspect conditions determined to warr...         False  \n",
      "2  Were recent or planned capital improvements re...         False  \n",
      "3  Client Company is Angelo, Gordon & Co., Client...         False  \n",
      "4  Overall condition of the subject property is B...         False  \n",
      "(5659, 4)\n"
     ]
    }
   ],
   "source": [
    "table_b = process_pca_items('../dat/raw-2/chatbot_pca_data_items.csv', 'col_reference.pkl', '../dat/raw-2/chatbot_projects.csv')\n",
    "print(table_b.head())\n",
    "print(table_b.shape)"
   ]
  },
  {
   "cell_type": "code",
   "execution_count": null,
   "id": "4146fde8-272d-4728-a1da-4f1219238043",
   "metadata": {},
   "outputs": [],
   "source": []
  }
 ],
 "metadata": {
  "kernelspec": {
   "display_name": "Python 3 (ipykernel)",
   "language": "python",
   "name": "python3"
  },
  "language_info": {
   "codemirror_mode": {
    "name": "ipython",
    "version": 3
   },
   "file_extension": ".py",
   "mimetype": "text/x-python",
   "name": "python",
   "nbconvert_exporter": "python",
   "pygments_lexer": "ipython3",
   "version": "3.9.18"
  }
 },
 "nbformat": 4,
 "nbformat_minor": 5
}
