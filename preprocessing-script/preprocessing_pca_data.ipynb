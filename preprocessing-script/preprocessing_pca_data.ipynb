{
 "cells": [
  {
   "cell_type": "code",
   "execution_count": 1,
   "id": "initial_id",
   "metadata": {
    "collapsed": true,
    "ExecuteTime": {
     "end_time": "2024-03-06T18:21:44.097211Z",
     "start_time": "2024-03-06T18:21:43.330451Z"
    }
   },
   "outputs": [],
   "source": [
    "import pandas as pd\n",
    "import numpy as np\n",
    "from pathlib import Path"
   ]
  },
  {
   "cell_type": "code",
   "outputs": [],
   "source": [
    "project_id_lst = pd.read_csv('chatbot_projects.csv', dtype={'id': str})['id'].unique().tolist()"
   ],
   "metadata": {
    "collapsed": false
   },
   "id": "6fef84ee39048260"
  },
  {
   "cell_type": "markdown",
   "source": [
    "### Section Reference Mapping Table"
   ],
   "metadata": {
    "collapsed": false
   },
   "id": "7be47935c75ef1c9"
  },
  {
   "cell_type": "code",
   "outputs": [],
   "source": [
    "cols2=pd.read_pickle('cols2.pkl')\n",
    "cols=pd.read_pickle('col_reference.pkl')"
   ],
   "metadata": {
    "collapsed": false,
    "ExecuteTime": {
     "end_time": "2024-03-06T18:34:29.805555Z",
     "start_time": "2024-03-06T18:34:29.798968Z"
    }
   },
   "id": "15ebd3de8f0f2a47",
   "execution_count": 27
  },
  {
   "cell_type": "code",
   "outputs": [
    {
     "data": {
      "text/plain": "                   source                                        target  \\\n0  52q_acc_area_heat_type                   Accessory Area Heating Type   \n1                     31c                                       Acreage   \n2     31ec_acreage_source                                Acreage source   \n3                322h_ada                    ADA (including van spaces)   \n4  1y_summary_ada_parking  ADA-designated parking count - Property Data   \n\n  section_reference                           category  \\\n0               5.2  Mechanical and Electrical Systems   \n1               3.1           Property Characteristics   \n2               3.1           Property Characteristics   \n3             3.2.2           Property Characteristics   \n4               1.1               Property Description   \n\n                                             section                subsection  \n0  Heating, Ventilation, and Air Conditioning (HVAC)                            \n1                               Parcel Configuration                            \n2                               Parcel Configuration                            \n3                                  Site Improvements  Vehicular Access, Paving  \n4    GENERAL PROPERTY DATA - EXECUTIVE SUMMARY TABLE                            ",
      "text/html": "<div>\n<style scoped>\n    .dataframe tbody tr th:only-of-type {\n        vertical-align: middle;\n    }\n\n    .dataframe tbody tr th {\n        vertical-align: top;\n    }\n\n    .dataframe thead th {\n        text-align: right;\n    }\n</style>\n<table border=\"1\" class=\"dataframe\">\n  <thead>\n    <tr style=\"text-align: right;\">\n      <th></th>\n      <th>source</th>\n      <th>target</th>\n      <th>section_reference</th>\n      <th>category</th>\n      <th>section</th>\n      <th>subsection</th>\n    </tr>\n  </thead>\n  <tbody>\n    <tr>\n      <th>0</th>\n      <td>52q_acc_area_heat_type</td>\n      <td>Accessory Area Heating Type</td>\n      <td>5.2</td>\n      <td>Mechanical and Electrical Systems</td>\n      <td>Heating, Ventilation, and Air Conditioning (HVAC)</td>\n      <td></td>\n    </tr>\n    <tr>\n      <th>1</th>\n      <td>31c</td>\n      <td>Acreage</td>\n      <td>3.1</td>\n      <td>Property Characteristics</td>\n      <td>Parcel Configuration</td>\n      <td></td>\n    </tr>\n    <tr>\n      <th>2</th>\n      <td>31ec_acreage_source</td>\n      <td>Acreage source</td>\n      <td>3.1</td>\n      <td>Property Characteristics</td>\n      <td>Parcel Configuration</td>\n      <td></td>\n    </tr>\n    <tr>\n      <th>3</th>\n      <td>322h_ada</td>\n      <td>ADA (including van spaces)</td>\n      <td>3.2.2</td>\n      <td>Property Characteristics</td>\n      <td>Site Improvements</td>\n      <td>Vehicular Access, Paving</td>\n    </tr>\n    <tr>\n      <th>4</th>\n      <td>1y_summary_ada_parking</td>\n      <td>ADA-designated parking count - Property Data</td>\n      <td>1.1</td>\n      <td>Property Description</td>\n      <td>GENERAL PROPERTY DATA - EXECUTIVE SUMMARY TABLE</td>\n      <td></td>\n    </tr>\n  </tbody>\n</table>\n</div>"
     },
     "execution_count": 29,
     "metadata": {},
     "output_type": "execute_result"
    }
   ],
   "source": [
    "cols.head()"
   ],
   "metadata": {
    "collapsed": false,
    "ExecuteTime": {
     "end_time": "2024-03-06T18:34:44.957539Z",
     "start_time": "2024-03-06T18:34:44.949889Z"
    }
   },
   "id": "ef586600d76b9152",
   "execution_count": 29
  },
  {
   "cell_type": "code",
   "outputs": [
    {
     "data": {
      "text/plain": "  section_reference                           category  \\\n0               5.2  Mechanical and Electrical Systems   \n1               3.1           Property Characteristics   \n3             3.2.2           Property Characteristics   \n4               1.1               Property Description   \n5               1.2               Property Description   \n\n                                             section                subsection  \n0  Heating, Ventilation, and Air Conditioning (HVAC)                            \n1                               Parcel Configuration                            \n3                                  Site Improvements  Vehicular Access, Paving  \n4    GENERAL PROPERTY DATA - EXECUTIVE SUMMARY TABLE                            \n5                             BUILDING SUMMARY TABLE                            ",
      "text/html": "<div>\n<style scoped>\n    .dataframe tbody tr th:only-of-type {\n        vertical-align: middle;\n    }\n\n    .dataframe tbody tr th {\n        vertical-align: top;\n    }\n\n    .dataframe thead th {\n        text-align: right;\n    }\n</style>\n<table border=\"1\" class=\"dataframe\">\n  <thead>\n    <tr style=\"text-align: right;\">\n      <th></th>\n      <th>section_reference</th>\n      <th>category</th>\n      <th>section</th>\n      <th>subsection</th>\n    </tr>\n  </thead>\n  <tbody>\n    <tr>\n      <th>0</th>\n      <td>5.2</td>\n      <td>Mechanical and Electrical Systems</td>\n      <td>Heating, Ventilation, and Air Conditioning (HVAC)</td>\n      <td></td>\n    </tr>\n    <tr>\n      <th>1</th>\n      <td>3.1</td>\n      <td>Property Characteristics</td>\n      <td>Parcel Configuration</td>\n      <td></td>\n    </tr>\n    <tr>\n      <th>3</th>\n      <td>3.2.2</td>\n      <td>Property Characteristics</td>\n      <td>Site Improvements</td>\n      <td>Vehicular Access, Paving</td>\n    </tr>\n    <tr>\n      <th>4</th>\n      <td>1.1</td>\n      <td>Property Description</td>\n      <td>GENERAL PROPERTY DATA - EXECUTIVE SUMMARY TABLE</td>\n      <td></td>\n    </tr>\n    <tr>\n      <th>5</th>\n      <td>1.2</td>\n      <td>Property Description</td>\n      <td>BUILDING SUMMARY TABLE</td>\n      <td></td>\n    </tr>\n  </tbody>\n</table>\n</div>"
     },
     "execution_count": 28,
     "metadata": {},
     "output_type": "execute_result"
    }
   ],
   "source": [
    "cols2.head()"
   ],
   "metadata": {
    "collapsed": false,
    "ExecuteTime": {
     "end_time": "2024-03-06T18:34:34.579220Z",
     "start_time": "2024-03-06T18:34:34.573925Z"
    }
   },
   "id": "9eba4475cdd870ed",
   "execution_count": 28
  },
  {
   "cell_type": "markdown",
   "source": [
    "### Processing Cost Tables"
   ],
   "metadata": {
    "collapsed": false
   },
   "id": "82cc29071c0fd7da"
  },
  {
   "cell_type": "code",
   "outputs": [],
   "source": [
    "ts = pd.read_csv('csv/transmittal-sheets.csv',\n",
    "           dtype= {'a_column':str, 'id':str, 'a_column':str, 'project_id':str},\n",
    "           parse_dates=['created_at','updated_at']\n",
    "           )"
   ],
   "metadata": {
    "collapsed": false
   },
   "id": "6cda718d115e1e09"
  },
  {
   "cell_type": "code",
   "outputs": [],
   "source": [
    "# ts = pd.read_pickle('pkl/ts.pkl')"
   ],
   "metadata": {
    "collapsed": false,
    "ExecuteTime": {
     "end_time": "2024-03-06T18:22:19.407281Z",
     "start_time": "2024-03-06T18:22:17.838827Z"
    }
   },
   "id": "ac7e383c8ec43260",
   "execution_count": 2
  },
  {
   "cell_type": "code",
   "outputs": [],
   "source": [
    "ts = ts[ts['project_id'].isin(project_id_lst)]"
   ],
   "metadata": {
    "collapsed": false,
    "ExecuteTime": {
     "end_time": "2024-03-06T18:26:37.113313Z",
     "start_time": "2024-03-06T18:26:37.069153Z"
    }
   },
   "id": "2f955d06533f5251",
   "execution_count": 9
  },
  {
   "cell_type": "code",
   "outputs": [],
   "source": [
    "ts_st = ts[ts['name'] == 'Short-term'].copy()\n",
    "ts_lt = ts[ts['name'] == 'Long-term'].copy()"
   ],
   "metadata": {
    "collapsed": false,
    "ExecuteTime": {
     "end_time": "2024-03-06T18:26:40.326607Z",
     "start_time": "2024-03-06T18:26:40.164108Z"
    }
   },
   "id": "3798a5ea9b6c792b",
   "execution_count": 10
  },
  {
   "cell_type": "code",
   "outputs": [],
   "source": [
    "st_cols = ['project_id','a_column', 'b_column', 'c_column', 'd_column', 'e_column', 'g_column', 'h_column']\n",
    "ts_st = ts_st[st_cols]\n",
    "# ts_st['total_cost'] = np.where(ts_st['h_column'].isnull() | (ts_st['h_column'].isnull()==0), ts_st['g_column'], ts_st['h_column'])\n",
    "\n",
    "conditions = [\n",
    "    (ts_st['c_column'] == 'Immediate (0-12 months)'),\n",
    "    (ts_st['c_column'] == 'Short-term (12-24 months)')\n",
    "]\n",
    "choices = [\n",
    "    ts_st['g_column'],\n",
    "    ts_st['h_column']\n",
    "]\n",
    "ts_st['total_cost'] = pd.to_numeric(np.select(conditions, choices, default=0)).astype(int)\n",
    "\n",
    "ts_st = ts_st.drop(['g_column', 'h_column'], axis=1)\n",
    "ts_st['number of units'] = ts_st['d_column'].astype(str)+' '+ts_st['e_column']\n",
    "ts_st = ts_st.drop(['d_column', 'e_column'], axis=1)\n",
    "ts_st.rename(columns={'a_column':'section_reference',\n",
    "                      'b_column':'cost_item_description',\n",
    "                      'c_column':'cost_type',\n",
    "                      }, inplace=True)\n",
    "\n",
    "ts_st['docu_txt'] = 'There is an ' + ts_st['cost_type'] + ' cost item regarding ' + ts_st['cost_item_description'] + \\\n",
    "                        ' for total unit of ' + ts_st['number of units'].astype(str) + ' with total cost of ' + ts_st['total_cost'].astype(str) + ' dollars.'\n",
    "ts_st_gb = ts_st.groupby(['project_id', 'section_reference'])['docu_txt'].apply(lambda x: ', '.join(x)).reset_index()"
   ],
   "metadata": {
    "collapsed": false,
    "ExecuteTime": {
     "end_time": "2024-03-06T18:27:33.912365Z",
     "start_time": "2024-03-06T18:27:33.883622Z"
    }
   },
   "id": "372b4dfcfc7548e7",
   "execution_count": 12
  },
  {
   "cell_type": "code",
   "outputs": [
    {
     "data": {
      "text/plain": "  project_id section_reference  \\\n0     246024             3.2.2   \n1     246024             4.3.1   \n2     246036             3.2.2   \n3     246036             3.2.3   \n4     246036             4.3.1   \n\n                                            docu_txt  \n0  There is an Short-term (12-24 months) cost ite...  \n1  There is an Short-term (12-24 months) cost ite...  \n2  There is an Immediate (0-12 months) cost item ...  \n3  There is an Immediate (0-12 months) cost item ...  \n4  There is an Immediate (0-12 months) cost item ...  ",
      "text/html": "<div>\n<style scoped>\n    .dataframe tbody tr th:only-of-type {\n        vertical-align: middle;\n    }\n\n    .dataframe tbody tr th {\n        vertical-align: top;\n    }\n\n    .dataframe thead th {\n        text-align: right;\n    }\n</style>\n<table border=\"1\" class=\"dataframe\">\n  <thead>\n    <tr style=\"text-align: right;\">\n      <th></th>\n      <th>project_id</th>\n      <th>section_reference</th>\n      <th>docu_txt</th>\n    </tr>\n  </thead>\n  <tbody>\n    <tr>\n      <th>0</th>\n      <td>246024</td>\n      <td>3.2.2</td>\n      <td>There is an Short-term (12-24 months) cost ite...</td>\n    </tr>\n    <tr>\n      <th>1</th>\n      <td>246024</td>\n      <td>4.3.1</td>\n      <td>There is an Short-term (12-24 months) cost ite...</td>\n    </tr>\n    <tr>\n      <th>2</th>\n      <td>246036</td>\n      <td>3.2.2</td>\n      <td>There is an Immediate (0-12 months) cost item ...</td>\n    </tr>\n    <tr>\n      <th>3</th>\n      <td>246036</td>\n      <td>3.2.3</td>\n      <td>There is an Immediate (0-12 months) cost item ...</td>\n    </tr>\n    <tr>\n      <th>4</th>\n      <td>246036</td>\n      <td>4.3.1</td>\n      <td>There is an Immediate (0-12 months) cost item ...</td>\n    </tr>\n  </tbody>\n</table>\n</div>"
     },
     "execution_count": 14,
     "metadata": {},
     "output_type": "execute_result"
    }
   ],
   "source": [
    "ts_st_gb.head()"
   ],
   "metadata": {
    "collapsed": false,
    "ExecuteTime": {
     "end_time": "2024-03-06T18:27:48.034363Z",
     "start_time": "2024-03-06T18:27:48.026355Z"
    }
   },
   "id": "10012706a10115a",
   "execution_count": 14
  },
  {
   "cell_type": "code",
   "outputs": [],
   "source": [
    "lt_cols = ['project_id','a_column', 'b_column', 'e_column', 'f_column',  'g_column',  'n_column','j_column', 'tab_name',\n",
    "           'year_1', 'year_2', 'year_3', 'year_4', 'year_5', 'year_6', 'year_7', 'year_8', 'year_9', 'year_10',\n",
    "           'year_11', 'year_12']\n",
    "ts_lt = ts_lt[lt_cols]\n",
    "ts_lt['number of units'] = ts_lt['f_column'].astype(str)+' '+ts_lt['g_column']\n",
    "ts_lt = ts_lt.drop(['f_column', 'g_column'], axis=1)\n",
    "ts_lt['e_column'] = ts_lt['e_column'].astype(int)\n",
    "ts_lt.rename(columns={'a_column':'section_reference',\n",
    "                      'b_column':'cost_item_description',\n",
    "                      'e_column':'remaining useful life (years)',\n",
    "                      'j_column':'item cost type',\n",
    "                      'n_column':'total cost',\n",
    "                      'tab_name':'cost type',\n",
    "                      }, inplace=True)\n",
    "\n",
    "ts_lt['docu_txt'] = 'There is an ' + ts_lt['item cost type'] + ' Reserve cost item regarding ' + ts_lt['cost_item_description'] + \\\n",
    "                        ' for total unit of ' + ts_lt['number of units'] + ' that have ' + ts_lt['remaining useful life (years)'].astype(str) \\\n",
    "                    + ' years remaining useful life with total cost of ' + ts_lt['total cost'].astype(str) + ' dollars, year 1 costs $' + \\\n",
    "                    ts_lt['year_1'].astype(str) + ', year 2 costs $' + ts_lt['year_2'].astype(str) + ', year 3 costs $' + ts_lt['year_3'].astype(str) \\\n",
    "                    + ', year 4 costs $' + ts_lt['year_4'].astype(str) + ', year 5 costs $' + ts_lt['year_5'].astype(str) + ', year 6 costs $' + \\\n",
    "                    ts_lt['year_6'].astype(str) + ', year 7 costs $' + ts_lt['year_7'].astype(str) + ', year 8 costs $' + ts_lt['year_8'].astype(str) + \\\n",
    "                    ', year 9 costs $' + ts_lt['year_9'].astype(str) + ', year 10 costs $' + ts_lt['year_10'].astype(str) + ', year 11 costs $' + \\\n",
    "                    ts_lt['year_11'].astype(str) + ', year 12 costs $' + ts_lt['year_12'].astype(str) + '.'\n",
    "ts_lt['docu_txt'] = ts_lt['docu_txt'].replace(\", year \\d+ costs \\$0\\.0\", \"\", regex=True)\n",
    "ts_lt = ts_lt[ts_lt['docu_txt'].notnull()]\n",
    "ts_lt_gb = ts_lt.groupby(['project_id', 'section_reference'])['docu_txt'].apply(lambda x: ', '.join(x)).reset_index()"
   ],
   "metadata": {
    "collapsed": false
   },
   "id": "84507fc37c503de6",
   "execution_count": null
  },
  {
   "cell_type": "code",
   "outputs": [],
   "source": [
    "ts_lt_union = pd.concat([ts_st_gb, ts_lt_gb], ignore_index=True)\n",
    "ts_lt_union['cost_related'] = True"
   ],
   "metadata": {
    "collapsed": false,
    "ExecuteTime": {
     "end_time": "2024-03-06T18:45:39.834014Z",
     "start_time": "2024-03-06T18:45:39.792220Z"
    }
   },
   "id": "d8e33870884e3c6b",
   "execution_count": 31
  },
  {
   "cell_type": "code",
   "outputs": [
    {
     "data": {
      "text/plain": "  project_id section_reference  \\\n0     246024             3.2.2   \n1     246024             4.3.1   \n2     246036             3.2.2   \n3     246036             3.2.3   \n4     246036             4.3.1   \n\n                                            docu_txt  cost_related  \n0  There is an Short-term (12-24 months) cost ite...          True  \n1  There is an Short-term (12-24 months) cost ite...          True  \n2  There is an Immediate (0-12 months) cost item ...          True  \n3  There is an Immediate (0-12 months) cost item ...          True  \n4  There is an Immediate (0-12 months) cost item ...          True  ",
      "text/html": "<div>\n<style scoped>\n    .dataframe tbody tr th:only-of-type {\n        vertical-align: middle;\n    }\n\n    .dataframe tbody tr th {\n        vertical-align: top;\n    }\n\n    .dataframe thead th {\n        text-align: right;\n    }\n</style>\n<table border=\"1\" class=\"dataframe\">\n  <thead>\n    <tr style=\"text-align: right;\">\n      <th></th>\n      <th>project_id</th>\n      <th>section_reference</th>\n      <th>docu_txt</th>\n      <th>cost_related</th>\n    </tr>\n  </thead>\n  <tbody>\n    <tr>\n      <th>0</th>\n      <td>246024</td>\n      <td>3.2.2</td>\n      <td>There is an Short-term (12-24 months) cost ite...</td>\n      <td>True</td>\n    </tr>\n    <tr>\n      <th>1</th>\n      <td>246024</td>\n      <td>4.3.1</td>\n      <td>There is an Short-term (12-24 months) cost ite...</td>\n      <td>True</td>\n    </tr>\n    <tr>\n      <th>2</th>\n      <td>246036</td>\n      <td>3.2.2</td>\n      <td>There is an Immediate (0-12 months) cost item ...</td>\n      <td>True</td>\n    </tr>\n    <tr>\n      <th>3</th>\n      <td>246036</td>\n      <td>3.2.3</td>\n      <td>There is an Immediate (0-12 months) cost item ...</td>\n      <td>True</td>\n    </tr>\n    <tr>\n      <th>4</th>\n      <td>246036</td>\n      <td>4.3.1</td>\n      <td>There is an Immediate (0-12 months) cost item ...</td>\n      <td>True</td>\n    </tr>\n  </tbody>\n</table>\n</div>"
     },
     "execution_count": 32,
     "metadata": {},
     "output_type": "execute_result"
    }
   ],
   "source": [
    "ts_lt_union.head()"
   ],
   "metadata": {
    "collapsed": false,
    "ExecuteTime": {
     "end_time": "2024-03-06T18:45:43.038761Z",
     "start_time": "2024-03-06T18:45:43.030155Z"
    }
   },
   "id": "960b49dc1f37ecdf",
   "execution_count": 32
  },
  {
   "cell_type": "markdown",
   "source": [
    "#### Processing PCA_Data_Items"
   ],
   "metadata": {
    "collapsed": false
   },
   "id": "f443c1d72f825fc4"
  },
  {
   "cell_type": "code",
   "outputs": [],
   "source": [
    "pca_items = pd.read_csv('csv/pca-data-items.csv',\n",
    "             dtype= {'id':str, 'project_id':str, 'document_spot':str,\n",
    "                    'section_reference':str, })"
   ],
   "metadata": {
    "collapsed": false
   },
   "id": "42216623f8cec4e0"
  },
  {
   "cell_type": "code",
   "outputs": [
    {
     "ename": "MemoryError",
     "evalue": "",
     "output_type": "error",
     "traceback": [
      "\u001B[1;31m---------------------------------------------------------------------------\u001B[0m",
      "\u001B[1;31mMemoryError\u001B[0m                               Traceback (most recent call last)",
      "Cell \u001B[1;32mIn[33], line 1\u001B[0m\n\u001B[1;32m----> 1\u001B[0m pca_items \u001B[38;5;241m=\u001B[39m \u001B[43mpd\u001B[49m\u001B[38;5;241;43m.\u001B[39;49m\u001B[43mread_pickle\u001B[49m\u001B[43m(\u001B[49m\u001B[38;5;124;43m'\u001B[39;49m\u001B[38;5;124;43mpkl/pca_items.pkl\u001B[39;49m\u001B[38;5;124;43m'\u001B[39;49m\u001B[43m)\u001B[49m\n",
      "File \u001B[1;32mc:\\Users\\kliu.PAC\\Desktop\\solution_cube_QAQC\\.venv\\Lib\\site-packages\\pandas\\io\\pickle.py:206\u001B[0m, in \u001B[0;36mread_pickle\u001B[1;34m(filepath_or_buffer, compression, storage_options)\u001B[0m\n\u001B[0;32m    203\u001B[0m     \u001B[38;5;28;01mwith\u001B[39;00m warnings\u001B[38;5;241m.\u001B[39mcatch_warnings(record\u001B[38;5;241m=\u001B[39m\u001B[38;5;28;01mTrue\u001B[39;00m):\n\u001B[0;32m    204\u001B[0m         \u001B[38;5;66;03m# We want to silence any warnings about, e.g. moved modules.\u001B[39;00m\n\u001B[0;32m    205\u001B[0m         warnings\u001B[38;5;241m.\u001B[39msimplefilter(\u001B[38;5;124m\"\u001B[39m\u001B[38;5;124mignore\u001B[39m\u001B[38;5;124m\"\u001B[39m, \u001B[38;5;167;01mWarning\u001B[39;00m)\n\u001B[1;32m--> 206\u001B[0m         \u001B[38;5;28;01mreturn\u001B[39;00m \u001B[43mpickle\u001B[49m\u001B[38;5;241;43m.\u001B[39;49m\u001B[43mload\u001B[49m\u001B[43m(\u001B[49m\u001B[43mhandles\u001B[49m\u001B[38;5;241;43m.\u001B[39;49m\u001B[43mhandle\u001B[49m\u001B[43m)\u001B[49m\n\u001B[0;32m    207\u001B[0m \u001B[38;5;28;01mexcept\u001B[39;00m excs_to_catch:\n\u001B[0;32m    208\u001B[0m     \u001B[38;5;66;03m# e.g.\u001B[39;00m\n\u001B[0;32m    209\u001B[0m     \u001B[38;5;66;03m#  \"No module named 'pandas.core.sparse.series'\"\u001B[39;00m\n\u001B[0;32m    210\u001B[0m     \u001B[38;5;66;03m#  \"Can't get attribute '__nat_unpickle' on <module 'pandas._libs.tslib\"\u001B[39;00m\n\u001B[0;32m    211\u001B[0m     \u001B[38;5;28;01mreturn\u001B[39;00m pc\u001B[38;5;241m.\u001B[39mload(handles\u001B[38;5;241m.\u001B[39mhandle, encoding\u001B[38;5;241m=\u001B[39m\u001B[38;5;28;01mNone\u001B[39;00m)\n",
      "\u001B[1;31mMemoryError\u001B[0m: "
     ]
    }
   ],
   "source": [
    "pca_items = pd.read_pickle('pkl/pca_items.pkl')"
   ],
   "metadata": {
    "collapsed": false,
    "ExecuteTime": {
     "end_time": "2024-03-06T18:47:32.972809Z",
     "start_time": "2024-03-06T18:46:19.962813Z"
    }
   },
   "id": "1d40995f78018d8a",
   "execution_count": 33
  },
  {
   "cell_type": "code",
   "outputs": [],
   "source": [
    "pca_items = pca_items[pca_items['document_spot'].isin(cols['source'].tolist()) &\n",
    "                      pca_items['project_id'].isin(project_id_lst)]"
   ],
   "metadata": {
    "collapsed": false,
    "ExecuteTime": {
     "end_time": "2024-03-06T18:47:32.983582Z",
     "start_time": "2024-03-06T18:47:32.982684Z"
    }
   },
   "id": "b42f763f44b7ba98"
  },
  {
   "cell_type": "code",
   "outputs": [],
   "source": [
    "pca_items['document_data'] = np.where(pca_items['document_text'].isnull(), pca_items['the_data'], pca_items['document_text'])\n",
    "pca_items = pca_items.drop(['document_text', 'the_data', 'id', 'question_number', 'section_order'], axis=1)\n",
    "\n",
    "pca_items = pca_items.dropna(subset = ['document_data'])\n",
    "pca_items = pca_items[pca_items['section_reference'].isin(cols['section_reference'].tolist())\n",
    "                      | pca_items['section_reference'].str.startswith('1')\n",
    "                        | pca_items['section_reference'].str.startswith('2.3')]\n",
    "pca_items = pca_items[~pca_items['document_spot'].str.startswith('pca_reserve')]\n",
    "\n",
    "del pca_items['section_reference']\n",
    "pca_items.rename(columns={'document_spot': 'source'}, inplace=True)\n",
    "\n",
    "pca_items = pca_items.merge(cols, on='source', how='left')\n",
    "\n",
    "del pca_items['source']\n",
    "\n",
    "pca_items['docu_txt'] = pca_items['target'] + ' is ' + pca_items['document_data']\n",
    "\n",
    "pca_items_gb = pca_items.groupby(['project_id', 'section_reference'])['docu_txt'].apply(lambda x: ', '.join(x)).reset_index()\n",
    "\n",
    "pca_items_gb['cost_related'] = False"
   ],
   "metadata": {
    "collapsed": false
   },
   "id": "c4abdc9aef522e1f"
  },
  {
   "cell_type": "markdown",
   "source": [
    "### Join parts"
   ],
   "metadata": {
    "collapsed": false
   },
   "id": "6a0f21f62a30e758"
  },
  {
   "cell_type": "code",
   "outputs": [],
   "source": [
    "df_union = pd.concat([pca_items_gb, ts_st_gb, ts_lt_gb ], ignore_index=True)"
   ],
   "metadata": {
    "collapsed": false
   },
   "id": "c81fe4fbf1c29427"
  },
  {
   "cell_type": "code",
   "outputs": [],
   "source": [
    "df_union = df_union.merge(cols2, on = 'section_reference', how = 'left')\n",
    "df_union = df_union[['project_id', 'section_reference', 'category', 'section', 'subsection',\n",
    "                      'cost_related','docu_txt']]"
   ],
   "metadata": {
    "collapsed": false
   },
   "id": "26fad0a8a2c197ec"
  },
  {
   "cell_type": "markdown",
   "source": [
    "#### Prep CSV(document) export for each project"
   ],
   "metadata": {
    "collapsed": false
   },
   "id": "fed468d1940dd6b3"
  },
  {
   "cell_type": "code",
   "outputs": [],
   "source": [
    "parent_dir = Path('chatbot_doc_export')\n",
    "for project_id in project_id_lst:\n",
    "    export_df = df_union[df_union['project_id'] == project_id].iloc[:, 1:]\n",
    "    export_df.to_csv(f'{parent_dir}/{project_id}data.csv', index = False)"
   ],
   "metadata": {
    "collapsed": false
   },
   "id": "223bb31616b37fe2"
  }
 ],
 "metadata": {
  "kernelspec": {
   "display_name": "Python 3",
   "language": "python",
   "name": "python3"
  },
  "language_info": {
   "codemirror_mode": {
    "name": "ipython",
    "version": 2
   },
   "file_extension": ".py",
   "mimetype": "text/x-python",
   "name": "python",
   "nbconvert_exporter": "python",
   "pygments_lexer": "ipython2",
   "version": "2.7.6"
  }
 },
 "nbformat": 4,
 "nbformat_minor": 5
}
